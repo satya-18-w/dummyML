{
 "cells": [
  {
   "cell_type": "code",
   "execution_count": 2,
   "id": "29a49b35",
   "metadata": {},
   "outputs": [],
   "source": [
    "import numpy as np\n",
    "import pandas as pd\n",
    "import sys\n",
    "import yaml\n",
    "import pathlib\n"
   ]
  },
  {
   "cell_type": "code",
   "execution_count": 14,
   "id": "daf3f09a",
   "metadata": {},
   "outputs": [],
   "source": [
    "import numpy as np\n",
    "import pandas as pd\n",
    "import pathlib\n",
    "import yaml\n",
    "from sklearn.decomposition import PCA\n"
   ]
  },
  {
   "cell_type": "code",
   "execution_count": 3,
   "id": "e3943696",
   "metadata": {},
   "outputs": [],
   "source": [
    "df=pd.read_csv(r\"C:\\Users\\Satyajit Samal\\OneDrive\\Desktop\\campusx\\Practise\\trip-duration\\data\\split_data\\train.csv\")"
   ]
  },
  {
   "cell_type": "code",
   "execution_count": 10,
   "id": "cbad830d",
   "metadata": {},
   "outputs": [
    {
     "data": {
      "text/plain": [
       "(1166914, 2)"
      ]
     },
     "execution_count": 10,
     "metadata": {},
     "output_type": "execute_result"
    }
   ],
   "source": [
    "df[['pickup_latitude', 'pickup_longitude']].values.shape"
   ]
  },
  {
   "cell_type": "code",
   "execution_count": 11,
   "id": "4ba17d65",
   "metadata": {},
   "outputs": [
    {
     "data": {
      "text/plain": [
       "(1166914, 2)"
      ]
     },
     "execution_count": 11,
     "metadata": {},
     "output_type": "execute_result"
    }
   ],
   "source": [
    "df[['dropoff_latitude', 'dropoff_longitude']].values.shape"
   ]
  },
  {
   "cell_type": "code",
   "execution_count": 15,
   "id": "33dc05db",
   "metadata": {},
   "outputs": [],
   "source": [
    "cord=np.vstack((df[['pickup_latitude', 'pickup_longitude']].values, df[['dropoff_latitude', 'dropoff_longitude']].values))"
   ]
  },
  {
   "cell_type": "code",
   "execution_count": 20,
   "id": "c640875b",
   "metadata": {},
   "outputs": [],
   "source": [
    "pca=PCA(n_components=1).fit(cord)"
   ]
  },
  {
   "cell_type": "code",
   "execution_count": 21,
   "id": "7a4ba579",
   "metadata": {},
   "outputs": [
    {
     "data": {
      "text/plain": [
       "array([[0.02636745, 0.99965232]])"
      ]
     },
     "execution_count": 21,
     "metadata": {},
     "output_type": "execute_result"
    }
   ],
   "source": [
    "pca.components_"
   ]
  },
  {
   "cell_type": "code",
   "execution_count": null,
   "id": "5a238f1f",
   "metadata": {},
   "outputs": [],
   "source": []
  },
  {
   "cell_type": "code",
   "execution_count": null,
   "id": "b79251df",
   "metadata": {},
   "outputs": [],
   "source": []
  },
  {
   "cell_type": "code",
   "execution_count": null,
   "id": "2a645606",
   "metadata": {},
   "outputs": [],
   "source": []
  }
 ],
 "metadata": {
  "kernelspec": {
   "display_name": "Python 3",
   "language": "python",
   "name": "python3"
  },
  "language_info": {
   "codemirror_mode": {
    "name": "ipython",
    "version": 3
   },
   "file_extension": ".py",
   "mimetype": "text/x-python",
   "name": "python",
   "nbconvert_exporter": "python",
   "pygments_lexer": "ipython3",
   "version": "3.12.0"
  }
 },
 "nbformat": 4,
 "nbformat_minor": 5
}
